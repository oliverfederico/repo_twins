{
 "cells": [
  {
   "cell_type": "markdown",
   "id": "1f10a920",
   "metadata": {},
   "source": [
    "# Graph Filtering Notebook\n",
    "\n",
    "This notebook loads an SQLite database, builds a graph using **python‑igraph**, and filters the graph so that only nodes with a certain type and a minimum number of relationships are plotted. The notebook also shows how to save both the graph visualization and the graph structure."
   ]
  },
  {
   "cell_type": "markdown",
   "id": "85359aee",
   "metadata": {},
   "source": [
    "## Setup and Configuration\n",
    "\n",
    "Make sure to install the required libraries before running the cells:\n",
    "\n",
    "```bash\n",
    "pip install python-igraph pandas tqdm\n",
    "```\n",
    "\n",
    "This cell sets up the configuration variables and helper functions."
   ]
  },
  {
   "cell_type": "code",
   "execution_count": 7,
   "id": "e45c94d7",
   "metadata": {},
   "outputs": [],
   "source": [
    "import sqlite3\n",
    "import pandas as pd\n",
    "from tqdm import tqdm\n",
    "from igraph import Graph, plot\n",
    "\n",
    "# -----------------------------\n",
    "# Configuration Options\n",
    "# -----------------------------\n",
    "\n",
    "\n",
    "\n",
    "# -----------------------------\n",
    "# Vertex initialization\n",
    "# -----------------------------\n",
    "vertex_dict = {}  # Mapping from our custom node IDs (strings) to igraph vertex indices\n",
    "vertices = []     # List of vertex names (custom IDs)\n",
    "vertex_attrs = [] # List of dictionaries with vertex attributes\n",
    "\n",
    "def add_vertex(v_id, attr):\n",
    "    \"\"\"Adds a vertex if not already added, storing its attributes.\"\"\"\n",
    "    if v_id not in vertex_dict:\n",
    "        index = len(vertices)\n",
    "        vertex_dict[v_id] = index\n",
    "        vertices.append(v_id)\n",
    "        vertex_attrs.append(attr)\n",
    "\n",
    "# Path to your SQLite database\n",
    "db_path = 'output/social_network_anonymized.db'"
   ]
  },
  {
   "cell_type": "markdown",
   "id": "f648bd12",
   "metadata": {},
   "source": [
    "## Load Vertices from the Database\n",
    "\n",
    "This cell reads in the Profiles, Activity, and Media tables from the database and adds each row as a vertex."
   ]
  },
  {
   "cell_type": "code",
   "execution_count": 8,
   "id": "016f00e7",
   "metadata": {},
   "outputs": [
    {
     "name": "stderr",
     "output_type": "stream",
     "text": [
      "Processing Profiles: 100%|██████████| 25461/25461 [00:02<00:00, 11040.52it/s]\n",
      "Processing Activities: 100%|██████████| 102738/102738 [00:09<00:00, 10764.18it/s]\n",
      "Processing Media: 100%|██████████| 27037/27037 [00:02<00:00, 12644.38it/s]\n"
     ]
    }
   ],
   "source": [
    "# Connect to the database\n",
    "conn = sqlite3.connect(db_path)\n",
    "\n",
    "# --- Process Profiles ---\n",
    "profiles_df = pd.read_sql_query(\"SELECT id, name, profile_type, platform, profile_url, region FROM Profiles\", conn)\n",
    "for _, row in tqdm(profiles_df.iterrows(), total=profiles_df.shape[0], desc=\"Processing Profiles\"):\n",
    "    v_name = f\"profile_{row['id']}\"\n",
    "    add_vertex(v_name, {\n",
    "        \"label\": row[\"name\"],\n",
    "        \"type\": \"profile\",\n",
    "        \"profile_type\": row[\"profile_type\"],\n",
    "        \"platform\": row[\"platform\"],\n",
    "        \"profile_url\": row[\"profile_url\"],\n",
    "        \"region\": row[\"region\"]\n",
    "    })\n",
    "\n",
    "# --- Process Activities ---\n",
    "activity_df = pd.read_sql_query(\"SELECT id, type, timestamp, content, description, platform FROM Activity\", conn)\n",
    "for _, row in tqdm(activity_df.iterrows(), total=activity_df.shape[0], desc=\"Processing Activities\"):\n",
    "    v_name = f\"activity_{row['id']}\"\n",
    "    add_vertex(v_name, {\n",
    "        \"type\": \"activity\",\n",
    "        \"activity_type\": row[\"type\"],\n",
    "        \"timestamp\": row[\"timestamp\"],\n",
    "        \"content\": row[\"content\"],\n",
    "        \"description\": row[\"description\"],\n",
    "        \"platform\": row[\"platform\"]\n",
    "    })\n",
    "\n",
    "# --- Process Media ---\n",
    "media_df = pd.read_sql_query(\"SELECT id, type, file_reference, original_url FROM Media\", conn)\n",
    "for _, row in tqdm(media_df.iterrows(), total=media_df.shape[0], desc=\"Processing Media\"):\n",
    "    v_name = f\"media_{row['id']}\"\n",
    "    add_vertex(v_name, {\n",
    "        \"type\": \"media\",\n",
    "        \"media_type\": row[\"type\"],\n",
    "        \"file_reference\": row[\"file_reference\"],\n",
    "        \"original_url\": row[\"original_url\"]\n",
    "    })\n",
    "\n",
    "conn.close()"
   ]
  },
  {
   "cell_type": "markdown",
   "id": "51f5f34a",
   "metadata": {},
   "source": [
    "## Load Edges from the Database\n",
    "\n",
    "This cell reads the relationship tables from the database and builds the edge list with attributes."
   ]
  },
  {
   "cell_type": "code",
   "execution_count": 9,
   "id": "de88f9c7",
   "metadata": {},
   "outputs": [
    {
     "name": "stderr",
     "output_type": "stream",
     "text": [
      "Processing Profile Connections: 100%|██████████| 43380/43380 [00:03<00:00, 12385.85it/s]\n",
      "Processing Profile Activities: 100%|██████████| 142865/142865 [00:10<00:00, 13318.80it/s]\n",
      "Processing Activity Media: 100%|██████████| 48022/48022 [00:04<00:00, 11357.19it/s]\n"
     ]
    }
   ],
   "source": [
    "edges = []      # List of tuples (source_index, target_index)\n",
    "edge_attrs = [] # List of dictionaries for edge attributes\n",
    "\n",
    "conn = sqlite3.connect(db_path)\n",
    "\n",
    "# --- ProfileConnection edges (Profile-to-Profile) ---\n",
    "profile_conn_df = pd.read_sql_query(\"SELECT source_id, target_id, connection_type FROM ProfileConnection\", conn)\n",
    "for _, row in tqdm(profile_conn_df.iterrows(), total=profile_conn_df.shape[0], desc=\"Processing Profile Connections\"):\n",
    "    source = f\"profile_{row['source_id']}\"\n",
    "    target = f\"profile_{row['target_id']}\"\n",
    "    if source in vertex_dict and target in vertex_dict:\n",
    "        edges.append((vertex_dict[source], vertex_dict[target]))\n",
    "        edge_attrs.append({\"type\": row[\"connection_type\"]})\n",
    "\n",
    "# --- ProfileActivity edges (Profile-to-Activity) ---\n",
    "profile_activity_df = pd.read_sql_query(\"SELECT profile_id, activity_id, relationship_type FROM ProfileActivity\", conn)\n",
    "for _, row in tqdm(profile_activity_df.iterrows(), total=profile_activity_df.shape[0], desc=\"Processing Profile Activities\"):\n",
    "    source = f\"profile_{row['profile_id']}\"\n",
    "    target = f\"activity_{row['activity_id']}\"\n",
    "    if source in vertex_dict and target in vertex_dict:\n",
    "        edges.append((vertex_dict[source], vertex_dict[target]))\n",
    "        edge_attrs.append({\"type\": row[\"relationship_type\"]})\n",
    "\n",
    "# --- ActivityMedia edges (Activity-to-Media) ---\n",
    "activity_media_df = pd.read_sql_query(\"SELECT activity_id, media_id, relationship_type FROM ActivityMedia\", conn)\n",
    "for _, row in tqdm(activity_media_df.iterrows(), total=activity_media_df.shape[0], desc=\"Processing Activity Media\"):\n",
    "    source = f\"activity_{row['activity_id']}\"\n",
    "    target = f\"media_{row['media_id']}\"\n",
    "    if source in vertex_dict and target in vertex_dict:\n",
    "        edges.append((vertex_dict[source], vertex_dict[target]))\n",
    "        edge_attrs.append({\"type\": row[\"relationship_type\"]})\n",
    "\n",
    "conn.close()"
   ]
  },
  {
   "cell_type": "markdown",
   "id": "0d9fcf9f",
   "metadata": {},
   "source": [
    "## Build the Graph with igraph\n",
    "\n",
    "This cell creates the igraph graph by adding vertices, setting attributes, and then adding the edges."
   ]
  },
  {
   "cell_type": "code",
   "execution_count": 10,
   "id": "a60b0a36",
   "metadata": {},
   "outputs": [],
   "source": [
    "# Create the graph\n",
    "g = Graph()\n",
    "g.add_vertices(len(vertices))\n",
    "g.vs[\"name\"] = vertices  # Set vertex names\n",
    "\n",
    "# Set vertex attributes\n",
    "all_vertex_keys = set()\n",
    "for attr in vertex_attrs:\n",
    "    all_vertex_keys.update(attr.keys())\n",
    "for key in all_vertex_keys:\n",
    "    g.vs[key] = [attr.get(key, None) for attr in vertex_attrs]\n",
    "\n",
    "g.add_edges(edges)\n",
    "\n",
    "# Set edge attributes\n",
    "all_edge_keys = set()\n",
    "for attr in edge_attrs:\n",
    "    all_edge_keys.update(attr.keys())\n",
    "for key in all_edge_keys:\n",
    "    g.es[key] = [attr.get(key, None) for attr in edge_attrs]"
   ]
  },
  {
   "cell_type": "code",
   "execution_count": 19,
   "id": "92cf6ad5",
   "metadata": {},
   "outputs": [
    {
     "data": {
      "application/vnd.jupyter.widget-view+json": {
       "model_id": "d62d74a8d0204256ba997fbb74fe8f4f",
       "version_major": 2,
       "version_minor": 0
      },
      "text/plain": [
       "Sigma(ig.Graph with 155,236 nodes and 213,769 edges)"
      ]
     },
     "execution_count": 19,
     "metadata": {},
     "output_type": "execute_result"
    }
   ],
   "source": [
    "from ipysigma import Sigma\n",
    "Sigma(g)"
   ]
  },
  {
   "cell_type": "markdown",
   "id": "08fe23cf",
   "metadata": {},
   "source": [
    "## Filter the Graph\n",
    "\n",
    "This cell filters the graph in two steps:\n",
    "\n",
    "1. **Node-Type Filtering:** Keep only vertices whose `type` attribute is in `selected_node_types`.\n",
    "2. **Relationship Filtering:** Further keep only those nodes that have at least `min_relationships` (i.e. a minimum degree).\n",
    "\n",
    "An induced subgraph is created with the selected vertices."
   ]
  },
  {
   "cell_type": "code",
   "execution_count": 14,
   "id": "89ccf97a",
   "metadata": {},
   "outputs": [],
   "source": [
    "# Specify which node types to plot (choose from \"profile\", \"activity\", \"media\")\n",
    "selected_node_types = {\"profile\"}#, \"activity\", \"media\"}\n",
    "\n",
    "# Specify the minimum number of relationships (edges) a node must have to be included\n",
    "min_relationships = 5\n",
    "# Filter by selected node types\n",
    "selected_indices = [v.index for v in g.vs if v[\"type\"] in selected_node_types]\n",
    "subgraph = g.induced_subgraph(selected_indices)\n",
    "\n",
    "# Further filter: Only keep vertices with at least min_relationships\n",
    "final_indices = [v.index for v in subgraph.vs if subgraph.degree(v.index) >= min_relationships]\n",
    "final_subgraph = subgraph.induced_subgraph(final_indices)"
   ]
  },
  {
   "cell_type": "markdown",
   "id": "fd59a296",
   "metadata": {},
   "source": [
    "## Layout, Plot, and Save the Graph\n",
    "\n",
    "This cell computes a layout using the Fruchterman-Reingold algorithm, plots the graph with vertex colors based on type, and saves the visualization as an image. An optional cell to save the graph structure is provided."
   ]
  },
  {
   "cell_type": "code",
   "execution_count": 15,
   "id": "c68e6f4f",
   "metadata": {},
   "outputs": [],
   "source": [
    "# Compute the layout\n",
    "layout = final_subgraph.layout(\"fr\")\n",
    "\n",
    "# Optionally set vertex colors based on type\n",
    "color_map = {\"profile\": \"skyblue\", \"activity\": \"lightgreen\", \"media\": \"lightcoral\"}\n",
    "vertex_colors = [color_map.get(v[\"type\"], \"grey\") for v in final_subgraph.vs]\n",
    "\n",
    "# Plot and save the graph image\n",
    "plot(\n",
    "    final_subgraph,\n",
    "    layout=layout,\n",
    "    vertex_color=vertex_colors,\n",
    "    vertex_label=final_subgraph.vs[\"name\"],\n",
    "    margin=40,\n",
    "    bbox=(8000, 8000),\n",
    "    target=\"filtered_social_network.png\"  # Change or comment out this line to only display the plot\n",
    ")\n",
    "\n",
    "# Optionally, save the graph structure to a GraphML file\n",
    "final_subgraph.write_graphml(\"filtered_social_network.graphml\")"
   ]
  },
  {
   "cell_type": "code",
   "execution_count": 18,
   "id": "46609c22",
   "metadata": {},
   "outputs": [
    {
     "name": "stderr",
     "output_type": "stream",
     "text": [
      "/home/ofederico/hackathon_projects/electric_twin/.venv/lib/python3.11/site-packages/google/auth/_default.py:76: UserWarning: Your application has authenticated using end user credentials from Google Cloud SDK without a quota project. You might receive a \"quota exceeded\" or \"API not enabled\" error. See the following page for troubleshooting: https://cloud.google.com/docs/authentication/adc-troubleshooting/user-creds. \n",
      "  warnings.warn(_CLOUD_SDK_CREDENTIALS_WARNING)\n"
     ]
    },
    {
     "name": "stdout",
     "output_type": "stream",
     "text": [
      "False\n"
     ]
    }
   ],
   "source": [
    "from google import genai\n",
    "from google.genai import types\n",
    "import base64\n",
    "\n",
    "def generate():\n",
    "  client = genai.Client(\n",
    "      vertexai=True,\n",
    "      project=\"electricwin25lon-513\",\n",
    "      location=\"us-central1\",\n",
    "  )\n",
    "\n",
    "  si_text1 = \"\"\"Answer the users prompt with just True or False depending on if you believe the text related to animal trafficking\"\"\"\n",
    "\n",
    "  model = \"gemini-2.0-pro-exp-02-05\"\n",
    "  contents = [\n",
    "    types.Content(\n",
    "      role=\"user\",\n",
    "      parts=[\n",
    "        types.Part.from_text(text=\"\"\"I am looking to buy a cider\"\"\")\n",
    "      ]\n",
    "    )\n",
    "  ]\n",
    "  generate_content_config = types.GenerateContentConfig(\n",
    "    temperature = 0,\n",
    "    top_p = 1,\n",
    "    seed = 0,\n",
    "    max_output_tokens = 512,\n",
    "    response_modalities = [\"TEXT\"],\n",
    "    safety_settings = [types.SafetySetting(\n",
    "      category=\"HARM_CATEGORY_HATE_SPEECH\",\n",
    "      threshold=\"OFF\"\n",
    "    ),types.SafetySetting(\n",
    "      category=\"HARM_CATEGORY_DANGEROUS_CONTENT\",\n",
    "      threshold=\"OFF\"\n",
    "    ),types.SafetySetting(\n",
    "      category=\"HARM_CATEGORY_SEXUALLY_EXPLICIT\",\n",
    "      threshold=\"OFF\"\n",
    "    ),types.SafetySetting(\n",
    "      category=\"HARM_CATEGORY_HARASSMENT\",\n",
    "      threshold=\"OFF\"\n",
    "    )],\n",
    "    system_instruction=[types.Part.from_text(text=si_text1)],\n",
    "  )\n",
    "\n",
    "  for chunk in client.models.generate_content_stream(\n",
    "    model = model,\n",
    "    contents = contents,\n",
    "    config = generate_content_config,\n",
    "    ):\n",
    "    print(chunk.text, end=\"\")\n",
    "\n",
    "generate()"
   ]
  }
 ],
 "metadata": {
  "kernelspec": {
   "display_name": ".venv",
   "language": "python",
   "name": "python3"
  },
  "language_info": {
   "codemirror_mode": {
    "name": "ipython",
    "version": 3
   },
   "file_extension": ".py",
   "mimetype": "text/x-python",
   "name": "python",
   "nbconvert_exporter": "python",
   "pygments_lexer": "ipython3",
   "version": "3.11.11"
  }
 },
 "nbformat": 4,
 "nbformat_minor": 5
}
